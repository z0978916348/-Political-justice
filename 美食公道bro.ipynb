{
 "cells": [
  {
   "cell_type": "code",
   "execution_count": 2,
   "metadata": {},
   "outputs": [],
   "source": [
    "news = '高雄市長韓國瑜6日確定遭罷免，一向挺韓的高雄市議會議長許崑源當晚即從住家大樓墜樓身亡，消息傳出，震驚政壇。據了解，許崑源受中風困擾，病情最近稍有起色，一直很關心罷韓狀況，不料昨天罷韓過關；許在墜樓前，剛在臉書發文「這一次，誰會是贏家」，令外界無限唏噓。前國民黨立委蔡正元在昨日表達許崑源是用「最深沉的大悲無語，表達最壯烈殉國殉黨！」今（7）日更以一首賦哀悼「台灣屈原」許崑源。蔡正元也指出民進黨立委林高雄市長韓國瑜6日確定遭罷免，一向挺韓的高雄市議會議長許崑源當晚即從住家大樓墜樓身亡，消息傳出，震驚政壇。據了解，許崑源受中風困擾，病情最近稍有起色，一直很關心罷韓狀況，不料昨天罷韓過關；許在墜樓前，剛在臉書發文「這一次，誰會是贏家」，令外界無限唏噓。前國民黨立委蔡正元在昨日表達許崑源是用「最深沉的大悲無語，表達最壯烈殉國殉黨！」今（7）日更以一首賦哀悼「台灣屈原」許崑源。蔡正元也指出民進黨立委林楚茵的老公、民進黨的台北市議員梁文傑，公開散布謠言說許崑源「有賭很大嗎？」蔡正元痛批梁文傑是「人民公敵！」蔡正元悼 台灣屈原 許崑源：高雄汨羅江兮 滾滾哀魂仇唱離騷別愁兮 歎知己難留淚吾不及兮 故里不語心善無悔兮 終化成灰街道不淹兮 幻化灘血草木零落兮 汝道先路黨人偷樂兮 幽眛險隘競進貪懶兮 余心所疾離別不難兮 靈修數化萎絕何傷兮 眾生蕪穢長太息掩涕兮 哀民生多艱余心之浩蕩兮 九死猶未悔國人莫我知兮 又何懷乎親駕八龍婉婉兮 神高馳邈邈※自殺警語中時電子報提醒您，自殺解決不了問題，給自己機會：自殺防治諮詢安心專線：0800-788995；生命線協談專線：1995'"
   ]
  },
  {
   "cell_type": "code",
   "execution_count": 3,
   "metadata": {},
   "outputs": [],
   "source": [
    "f = open('中國國民黨.txt', encoding='utf-8')\n",
    "kmt = str()\n",
    "for line in f:\n",
    "    kmt += line\n",
    "kmt = kmt.split('\\n')"
   ]
  },
  {
   "cell_type": "code",
   "execution_count": 4,
   "metadata": {},
   "outputs": [],
   "source": [
    "f = open('民主進步黨.txt', encoding='utf-8')\n",
    "dpp = str()\n",
    "for line in f:\n",
    "    dpp += line\n",
    "dpp = dpp.split('\\n')"
   ]
  },
  {
   "cell_type": "code",
   "execution_count": 5,
   "metadata": {},
   "outputs": [
    {
     "name": "stderr",
     "output_type": "stream",
     "text": [
      "Building prefix dict from the default dictionary ...\n",
      "Loading model from cache C:\\Users\\Kaiyu\\AppData\\Local\\Temp\\jieba.cache\n",
      "Loading model cost 0.723 seconds.\n",
      "Prefix dict has been built successfully.\n"
     ]
    }
   ],
   "source": [
    "import jieba\n",
    "import jieba.posseg as pseg\n",
    "\n",
    "for b in kmt:\n",
    "    jieba.add_word(b, freq=None, tag=None)\n",
    "\n",
    "for g in dpp:\n",
    "    jieba.add_word(g, freq=None, tag=None)\n",
    "\n",
    "stopwords=[' ', '-']\n",
    "\n",
    "with open('stopwords.txt', 'r', encoding='UTF-8') as file:\n",
    "    for words in file.readlines():\n",
    "        words = words.strip()\n",
    "\n",
    "        stopwords.append(words)"
   ]
  },
  {
   "cell_type": "code",
   "execution_count": 6,
   "metadata": {},
   "outputs": [
    {
     "name": "stdout",
     "output_type": "stream",
     "text": [
      "['高雄市', '長', '韓國瑜', '日', '確定', '遭', '罷免', '一向', '挺韓', '高雄市', '議會', '議長', '許崑源', '當晚', '住家', '大樓', '墜樓', '身亡', '消息', '傳出', '震驚政壇', '了解', '許崑源', '受中風', '困擾', '病情', '最近', '稍', '有起色', '一直', '很關', '心罷', '韓狀況', '昨天', '罷韓', '過關', '許在', '墜樓', '前', '剛在', '臉書', '發文', '一次', '會', '贏家', '令', '外界', '無限', '唏噓', '前國民黨', '立委', '蔡正元', '昨日', '表達', '許崑源', '深沉', '大悲', '無語', '表達', '最壯烈', '殉國', '殉黨', '日', '更', '一首', '賦', '哀悼', '台灣', '屈原', '許崑源', '蔡正元', '指出', '民進黨', '立委', '林', '高雄市', '長', '韓國瑜', '日', '確定', '遭', '罷免', '一向', '挺韓', '高雄市', '議會', '議長', '許崑源', '當晚', '住家', '大樓', '墜樓', '身亡', '消息', '傳出', '震驚政壇', '了解', '許崑源', '受中風', '困擾', '病情', '最近', '稍', '有起色', '一直', '很關', '心罷', '韓狀況', '昨天', '罷韓', '過關', '許在', '墜樓', '前', '剛在', '臉書', '發文', '一次', '會', '贏家', '令', '外界', '無限', '唏噓', '前國民黨', '立委', '蔡正元', '昨日', '表達', '許崑源', '深沉', '大悲', '無語', '表達', '最壯烈', '殉國', '殉黨', '日', '更', '一首', '賦', '哀悼', '台灣', '屈原', '許崑源', '蔡正元', '指出', '民進黨', '立委', '林楚茵', '老公', '民進黨', '台北市', '議員', '梁文傑', '公開', '散布', '謠言', '說', '許崑源', '賭', '很大', '蔡正元', '痛批', '梁文傑', '人民', '公敵', '蔡正元', '悼', '台灣', '屈原', '許崑源', '高雄', '汨羅江', '滾滾', '哀魂', '仇唱離', '騷別', '愁', '歎', '知己', '難留淚', '吾', '不及', '故里', '不語', '心善', '無悔', '終', '化成灰', '街道', '不淹', '幻化', '灘血', '草木', '零落', '汝道', '先路', '黨', '偷樂', '幽', '眛', '險隘', '競進', '貪懶', '余心', '疾離別', '不難', '靈修', '數化', '萎絕', '何傷', '眾生', '蕪穢長', '太息', '掩涕', '哀', '民生', '艱余心', '之浩', '蕩', '九死', '猶未悔', '國人', '莫', '知兮', '何懷乎', '親駕', '八龍婉婉兮', '神高', '馳邈', '邈', '※', '自殺', '警語', '中時', '電子', '報', '提醒您', '自殺', '解決', '不了', '問題', '機會', '自殺', '防治', '諮', '詢', '安心', '專線', '0800', '788995', '生命', '線協談', '專線', '1995']\n"
     ]
    }
   ],
   "source": [
    "news_pos_tokens = jieba.cut(news)\n",
    "\n",
    "news_remaind_words = list(filter(lambda a: a not in stopwords and a != '\\n', news_pos_tokens))\n",
    "print(news_remaind_words)"
   ]
  },
  {
   "cell_type": "code",
   "execution_count": 25,
   "metadata": {},
   "outputs": [],
   "source": [
    "# from wordcloud import WordCloud\n",
    "# import matplotlib.pyplot as plt\n",
    "# font_path=\"SourceHanSerifK-Light.otf\"\n",
    "# cloud_text = ' '.join(news_remaind_words)\n",
    "# wc = WordCloud(font_path=font_path, max_words = 100, width = 1000, height = 1000, background_color=\"white\")\n",
    "\n",
    "# wc.generate(cloud_text)\n",
    "# plt.axis('off')\n",
    "# plt.imshow(wc)\n",
    "# plt.show()"
   ]
  },
  {
   "cell_type": "code",
   "execution_count": 28,
   "metadata": {},
   "outputs": [],
   "source": [
    "# s_news = u'高雄市長韓國瑜6日確定遭罷免，一向挺韓的高雄市議會議長許崑源當晚即從住家大樓墜樓身亡，消息傳出，震驚政壇。據了解，許崑源受中風困擾，病情最近稍有起色，一直很關心罷韓狀況，不料昨天罷韓過關；許在墜樓前，剛在臉書發文「這一次，誰會是贏家」，令外界無限唏噓。前國民黨立委蔡正元在昨日表達許崑源是用「最深沉的大悲無語，表達最壯烈殉國殉黨！」今（7）日更以一首賦哀悼「台灣屈原」許崑源。蔡正元也指出民進黨立委林高雄市長韓國瑜6日確定遭罷免，一向挺韓的高雄市議會議長許崑源當晚即從住家大樓墜樓身亡，消息傳出，震驚政壇。據了解，許崑源受中風困擾，病情最近稍有起色，一直很關心罷韓狀況，不料昨天罷韓過關；許在墜樓前，剛在臉書發文「這一次，誰會是贏家」，令外界無限唏噓。前國民黨立委蔡正元在昨日表達許崑源是用「最深沉的大悲無語，表達最壯烈殉國殉黨！」今（7）日更以一首賦哀悼「台灣屈原」許崑源。蔡正元也指出民進黨立委林楚茵的老公、民進黨的台北市議員梁文傑，公開散布謠言說許崑源「有賭很大嗎？」蔡正元痛批梁文傑是「人民公敵！」蔡正元悼 台灣屈原 許崑源：高雄汨羅江兮 滾滾哀魂仇唱離騷別愁兮 歎知己難留淚吾不及兮 故里不語心善無悔兮 終化成灰街道不淹兮 幻化灘血草木零落兮 汝道先路黨人偷樂兮 幽眛險隘競進貪懶兮 余心所疾離別不難兮 靈修數化萎絕何傷兮 眾生蕪穢長太息掩涕兮 哀民生多艱余心之浩蕩兮 九死猶未悔國人莫我知兮 又何懷乎親駕八龍婉婉兮 神高馳邈邈※自殺警語中時電子報提醒您，自殺解決不了問題，給自己機會：自殺防治諮詢安心專線：0800-788995；生命線協談專線：1995'"
   ]
  },
  {
   "cell_type": "code",
   "execution_count": 30,
   "metadata": {},
   "outputs": [],
   "source": [
    "# from snownlp import SnowNLP\n",
    "\n",
    "# s = SnowNLP(s_news)\n",
    "\n",
    "# for sen in s.sentences:\n",
    "#     print(sen + \"。\")\n",
    "\n",
    "# key_sen = 3\n",
    "\n",
    "# s_keysen = s.summary(3)\n",
    "# print(s_keysen)"
   ]
  },
  {
   "cell_type": "code",
   "execution_count": 34,
   "metadata": {},
   "outputs": [
    {
     "data": {
      "text/html": [
       "<div>\n",
       "<style scoped>\n",
       "    .dataframe tbody tr th:only-of-type {\n",
       "        vertical-align: middle;\n",
       "    }\n",
       "\n",
       "    .dataframe tbody tr th {\n",
       "        vertical-align: top;\n",
       "    }\n",
       "\n",
       "    .dataframe thead th {\n",
       "        text-align: right;\n",
       "    }\n",
       "</style>\n",
       "<table border=\"1\" class=\"dataframe\">\n",
       "  <thead>\n",
       "    <tr style=\"text-align: right;\">\n",
       "      <th></th>\n",
       "      <th>詞語</th>\n",
       "      <th>詞性種類</th>\n",
       "      <th>情感分類</th>\n",
       "    </tr>\n",
       "  </thead>\n",
       "  <tbody>\n",
       "    <tr>\n",
       "      <th>0</th>\n",
       "      <td>髒亂</td>\n",
       "      <td>adj</td>\n",
       "      <td>negative</td>\n",
       "    </tr>\n",
       "    <tr>\n",
       "      <th>1</th>\n",
       "      <td>糟報</td>\n",
       "      <td>adj</td>\n",
       "      <td>negative</td>\n",
       "    </tr>\n",
       "    <tr>\n",
       "      <th>2</th>\n",
       "      <td>早衰</td>\n",
       "      <td>adj</td>\n",
       "      <td>negative</td>\n",
       "    </tr>\n",
       "    <tr>\n",
       "      <th>3</th>\n",
       "      <td>責備</td>\n",
       "      <td>verb</td>\n",
       "      <td>negative</td>\n",
       "    </tr>\n",
       "    <tr>\n",
       "      <th>4</th>\n",
       "      <td>賊眼</td>\n",
       "      <td>noun</td>\n",
       "      <td>negative</td>\n",
       "    </tr>\n",
       "    <tr>\n",
       "      <th>...</th>\n",
       "      <td>...</td>\n",
       "      <td>...</td>\n",
       "      <td>...</td>\n",
       "    </tr>\n",
       "    <tr>\n",
       "      <th>27575</th>\n",
       "      <td>用力過度</td>\n",
       "      <td>NaN</td>\n",
       "      <td>negative</td>\n",
       "    </tr>\n",
       "    <tr>\n",
       "      <th>27576</th>\n",
       "      <td>操蛋</td>\n",
       "      <td>NaN</td>\n",
       "      <td>negative</td>\n",
       "    </tr>\n",
       "    <tr>\n",
       "      <th>27577</th>\n",
       "      <td>無言以對</td>\n",
       "      <td>NaN</td>\n",
       "      <td>negative</td>\n",
       "    </tr>\n",
       "    <tr>\n",
       "      <th>27578</th>\n",
       "      <td>糟踐</td>\n",
       "      <td>NaN</td>\n",
       "      <td>negative</td>\n",
       "    </tr>\n",
       "    <tr>\n",
       "      <th>27579</th>\n",
       "      <td>招黑</td>\n",
       "      <td>NaN</td>\n",
       "      <td>negative</td>\n",
       "    </tr>\n",
       "  </tbody>\n",
       "</table>\n",
       "<p>27401 rows × 3 columns</p>\n",
       "</div>"
      ],
      "text/plain": [
       "         詞語  詞性種類      情感分類\n",
       "0        髒亂   adj  negative\n",
       "1        糟報   adj  negative\n",
       "2        早衰   adj  negative\n",
       "3        責備  verb  negative\n",
       "4        賊眼  noun  negative\n",
       "...     ...   ...       ...\n",
       "27575  用力過度   NaN  negative\n",
       "27576    操蛋   NaN  negative\n",
       "27577  無言以對   NaN  negative\n",
       "27578    糟踐   NaN  negative\n",
       "27579    招黑   NaN  negative\n",
       "\n",
       "[27401 rows x 3 columns]"
      ]
     },
     "execution_count": 34,
     "metadata": {},
     "output_type": "execute_result"
    }
   ],
   "source": [
    "import pandas as pd\n",
    "sentment_table = pd.read_excel('情感词典修改版(繁).xlsx')\n",
    "\n",
    "drop_list = ['詞義數', '詞義序號', '強度', '極性', '輔助情感分類', '強度2', '極性2', 'Unnamed: 10', 'Unnamed: 11']\n",
    "positive_sentiment = ['PA', 'PE', 'PD', 'PH', 'PG', 'PB', 'PK']\n",
    "negative_sentiment = ['NA', 'NB', 'NJ', 'NI', 'NC', 'NE', 'ND', 'NN', 'NK', 'NL']\n",
    "neutral_sentiment  = ['NH', 'PF', 'NG', 'PC']\n",
    "\n",
    "\n",
    "sentment_table.drop(drop_list, inplace=True, axis = 1)\n",
    "sentment_table.dropna()\n",
    "\n",
    "sentment_table['情感分類'].replace(positive_sentiment, 'positive', inplace=True)\n",
    "sentment_table['情感分類'].replace(negative_sentiment, 'negative', inplace=True)\n",
    "sentment_table['情感分類'].replace(neutral_sentiment, 'neutral', inplace=True)\n",
    "\n",
    "sentment_table.drop_duplicates(\"詞語\",keep = \"first\",inplace = True)\n",
    "\n",
    "sentment_table"
   ]
  },
  {
   "cell_type": "code",
   "execution_count": 36,
   "metadata": {},
   "outputs": [
    {
     "data": {
      "text/html": [
       "<div>\n",
       "<style scoped>\n",
       "    .dataframe tbody tr th:only-of-type {\n",
       "        vertical-align: middle;\n",
       "    }\n",
       "\n",
       "    .dataframe tbody tr th {\n",
       "        vertical-align: top;\n",
       "    }\n",
       "\n",
       "    .dataframe thead th {\n",
       "        text-align: right;\n",
       "    }\n",
       "</style>\n",
       "<table border=\"1\" class=\"dataframe\">\n",
       "  <thead>\n",
       "    <tr style=\"text-align: right;\">\n",
       "      <th></th>\n",
       "      <th>詞性種類</th>\n",
       "      <th>情感分類</th>\n",
       "    </tr>\n",
       "    <tr>\n",
       "      <th>詞語</th>\n",
       "      <th></th>\n",
       "      <th></th>\n",
       "    </tr>\n",
       "  </thead>\n",
       "  <tbody>\n",
       "    <tr>\n",
       "      <th>髒亂</th>\n",
       "      <td>adj</td>\n",
       "      <td>negative</td>\n",
       "    </tr>\n",
       "    <tr>\n",
       "      <th>糟報</th>\n",
       "      <td>adj</td>\n",
       "      <td>negative</td>\n",
       "    </tr>\n",
       "    <tr>\n",
       "      <th>早衰</th>\n",
       "      <td>adj</td>\n",
       "      <td>negative</td>\n",
       "    </tr>\n",
       "    <tr>\n",
       "      <th>責備</th>\n",
       "      <td>verb</td>\n",
       "      <td>negative</td>\n",
       "    </tr>\n",
       "    <tr>\n",
       "      <th>賊眼</th>\n",
       "      <td>noun</td>\n",
       "      <td>negative</td>\n",
       "    </tr>\n",
       "    <tr>\n",
       "      <th>...</th>\n",
       "      <td>...</td>\n",
       "      <td>...</td>\n",
       "    </tr>\n",
       "    <tr>\n",
       "      <th>用力過度</th>\n",
       "      <td>NaN</td>\n",
       "      <td>negative</td>\n",
       "    </tr>\n",
       "    <tr>\n",
       "      <th>操蛋</th>\n",
       "      <td>NaN</td>\n",
       "      <td>negative</td>\n",
       "    </tr>\n",
       "    <tr>\n",
       "      <th>無言以對</th>\n",
       "      <td>NaN</td>\n",
       "      <td>negative</td>\n",
       "    </tr>\n",
       "    <tr>\n",
       "      <th>糟踐</th>\n",
       "      <td>NaN</td>\n",
       "      <td>negative</td>\n",
       "    </tr>\n",
       "    <tr>\n",
       "      <th>招黑</th>\n",
       "      <td>NaN</td>\n",
       "      <td>negative</td>\n",
       "    </tr>\n",
       "  </tbody>\n",
       "</table>\n",
       "<p>27401 rows × 2 columns</p>\n",
       "</div>"
      ],
      "text/plain": [
       "      詞性種類      情感分類\n",
       "詞語                  \n",
       "髒亂     adj  negative\n",
       "糟報     adj  negative\n",
       "早衰     adj  negative\n",
       "責備    verb  negative\n",
       "賊眼    noun  negative\n",
       "...    ...       ...\n",
       "用力過度   NaN  negative\n",
       "操蛋     NaN  negative\n",
       "無言以對   NaN  negative\n",
       "糟踐     NaN  negative\n",
       "招黑     NaN  negative\n",
       "\n",
       "[27401 rows x 2 columns]"
      ]
     },
     "execution_count": 36,
     "metadata": {},
     "output_type": "execute_result"
    }
   ],
   "source": [
    "key = sentment_table['詞語']\n",
    "sentment_table.drop(columns = ['詞語'], inplace=True)\n",
    "sentment_table.index = key\n",
    "sentment_table"
   ]
  },
  {
   "cell_type": "code",
   "execution_count": 39,
   "metadata": {},
   "outputs": [],
   "source": [
    "meanless = ['一定', '不可', '確定', '罷免']\n",
    "\n",
    "news_jieba = news_remaind_words"
   ]
  },
  {
   "cell_type": "code",
   "execution_count": 41,
   "metadata": {},
   "outputs": [
    {
     "name": "stdout",
     "output_type": "stream",
     "text": [
      "確定 neutral\n",
      "消息 neutral\n",
      "困擾 negative\n",
      "無限 neutral\n",
      "無語 negative\n",
      "殉國 neutral\n",
      "哀悼 negative\n",
      "確定 neutral\n",
      "消息 neutral\n",
      "困擾 negative\n",
      "無限 neutral\n",
      "無語 negative\n",
      "殉國 neutral\n",
      "哀悼 negative\n",
      "謠言 negative\n",
      "公敵 negative\n",
      "知己 neutral\n",
      "不及 negative\n",
      "零落 negative\n",
      "險隘 neutral\n",
      "眾生 neutral\n",
      "解決 negative\n",
      "不了 negative\n",
      "-12\n"
     ]
    }
   ],
   "source": [
    "score = 0\n",
    "\n",
    "for i in news_jieba:\n",
    "    if i in sentment_table.index:\n",
    "        if sentment_table.loc[i,'情感分類'] == 'negative':\n",
    "            if i not in meanless:\n",
    "                print(i, 'negative')\n",
    "                score -= 1\n",
    "#         elif sentment_table.loc[i,'情感分類'] == 'positive':\n",
    "#             if i not in meanless:\n",
    "#                 print(i, 'positive')\n",
    "#                 score += 1\n",
    "        else:\n",
    "            print(i, 'neutral')\n",
    "\n",
    "print(score)"
   ]
  },
  {
   "cell_type": "code",
   "execution_count": 46,
   "metadata": {},
   "outputs": [
    {
     "name": "stdout",
     "output_type": "stream",
     "text": [
      "國民黨主詞數量 : 20\n",
      "民進黨主詞數量 : 6\n"
     ]
    }
   ],
   "source": [
    "blue_subject = 0\n",
    "green_subject = 0\n",
    "for i in news_jieba:\n",
    "    if i in kmt:\n",
    "        blue_subject += 1\n",
    "    elif i in dpp:\n",
    "        green_subject += 1\n",
    "\n",
    "print('國民黨主詞數量 :', blue_subject)\n",
    "print('民進黨主詞數量 :', green_subject)"
   ]
  },
  {
   "cell_type": "code",
   "execution_count": null,
   "metadata": {},
   "outputs": [],
   "source": []
  }
 ],
 "metadata": {
  "kernelspec": {
   "display_name": "Python 3",
   "language": "python",
   "name": "python3"
  },
  "language_info": {
   "codemirror_mode": {
    "name": "ipython",
    "version": 3
   },
   "file_extension": ".py",
   "mimetype": "text/x-python",
   "name": "python",
   "nbconvert_exporter": "python",
   "pygments_lexer": "ipython3",
   "version": "3.7.6"
  }
 },
 "nbformat": 4,
 "nbformat_minor": 4
}
